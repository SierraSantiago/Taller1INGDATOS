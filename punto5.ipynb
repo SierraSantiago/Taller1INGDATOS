{
 "cells": [
  {
   "cell_type": "code",
   "execution_count": 1,
   "id": "d3bc2f3b",
   "metadata": {},
   "outputs": [],
   "source": [
    "import sqlite3\n",
    "import pandas as pd\n",
    "\n",
    "\n",
    "db_path = \"db_minitest.sqlite3\" \n",
    "conn = sqlite3.connect(db_path)"
   ]
  },
  {
   "cell_type": "code",
   "execution_count": 2,
   "id": "b63c59e0",
   "metadata": {},
   "outputs": [],
   "source": [
    "def run_query(query):\n",
    "    return pd.read_sql_query(query, conn)"
   ]
  },
  {
   "cell_type": "code",
   "execution_count": 3,
   "id": "083547ba",
   "metadata": {},
   "outputs": [
    {
     "name": "stdout",
     "output_type": "stream",
     "text": [
      "Query 1: Users older than 30 created this year, ordered by creation date:\n"
     ]
    },
    {
     "data": {
      "text/html": [
       "<div>\n",
       "<style scoped>\n",
       "    .dataframe tbody tr th:only-of-type {\n",
       "        vertical-align: middle;\n",
       "    }\n",
       "\n",
       "    .dataframe tbody tr th {\n",
       "        vertical-align: top;\n",
       "    }\n",
       "\n",
       "    .dataframe thead th {\n",
       "        text-align: right;\n",
       "    }\n",
       "</style>\n",
       "<table border=\"1\" class=\"dataframe\">\n",
       "  <thead>\n",
       "    <tr style=\"text-align: right;\">\n",
       "      <th></th>\n",
       "      <th>name</th>\n",
       "      <th>email</th>\n",
       "      <th>phone</th>\n",
       "      <th>address</th>\n",
       "      <th>created_at</th>\n",
       "    </tr>\n",
       "  </thead>\n",
       "  <tbody>\n",
       "    <tr>\n",
       "      <th>0</th>\n",
       "      <td>Diana</td>\n",
       "      <td>diana@example.com</td>\n",
       "      <td>555-3456</td>\n",
       "      <td>321 Pine St</td>\n",
       "      <td>2025-03-15</td>\n",
       "    </tr>\n",
       "    <tr>\n",
       "      <th>1</th>\n",
       "      <td>Edward</td>\n",
       "      <td>edward@example.com</td>\n",
       "      <td>555-7890</td>\n",
       "      <td>654 Cedar Ave</td>\n",
       "      <td>2025-04-10</td>\n",
       "    </tr>\n",
       "    <tr>\n",
       "      <th>2</th>\n",
       "      <td>Hannah</td>\n",
       "      <td>hannah@example.com</td>\n",
       "      <td>555-0123</td>\n",
       "      <td>135 Willow Dr</td>\n",
       "      <td>2025-06-01</td>\n",
       "    </tr>\n",
       "  </tbody>\n",
       "</table>\n",
       "</div>"
      ],
      "text/plain": [
       "     name               email     phone        address  created_at\n",
       "0   Diana   diana@example.com  555-3456    321 Pine St  2025-03-15\n",
       "1  Edward  edward@example.com  555-7890  654 Cedar Ave  2025-04-10\n",
       "2  Hannah  hannah@example.com  555-0123  135 Willow Dr  2025-06-01"
      ]
     },
     "metadata": {},
     "output_type": "display_data"
    }
   ],
   "source": [
    "\n",
    "query1 = \"\"\"\n",
    "SELECT u.name, u.email, p.phone, p.address, u.created_at\n",
    "FROM users u\n",
    "JOIN profiles p ON u.user_id = p.user_id\n",
    "WHERE u.age > 30\n",
    "  AND strftime('%Y', u.created_at) = strftime('%Y', 'now')\n",
    "ORDER BY u.created_at ASC\n",
    "LIMIT 5;\n",
    "\n",
    "\"\"\"\n",
    "print(\"Query 1: Users older than 30 created this year, ordered by creation date:\")\n",
    "display(run_query(query1))"
   ]
  },
  {
   "cell_type": "code",
   "execution_count": 4,
   "id": "dde172fa",
   "metadata": {},
   "outputs": [
    {
     "name": "stdout",
     "output_type": "stream",
     "text": [
      "Query 2: Users who spent more than $700:\n"
     ]
    },
    {
     "data": {
      "text/html": [
       "<div>\n",
       "<style scoped>\n",
       "    .dataframe tbody tr th:only-of-type {\n",
       "        vertical-align: middle;\n",
       "    }\n",
       "\n",
       "    .dataframe tbody tr th {\n",
       "        vertical-align: top;\n",
       "    }\n",
       "\n",
       "    .dataframe thead th {\n",
       "        text-align: right;\n",
       "    }\n",
       "</style>\n",
       "<table border=\"1\" class=\"dataframe\">\n",
       "  <thead>\n",
       "    <tr style=\"text-align: right;\">\n",
       "      <th></th>\n",
       "      <th>user_id</th>\n",
       "      <th>name</th>\n",
       "      <th>total_spent</th>\n",
       "    </tr>\n",
       "  </thead>\n",
       "  <tbody>\n",
       "    <tr>\n",
       "      <th>0</th>\n",
       "      <td>1</td>\n",
       "      <td>Alice</td>\n",
       "      <td>1225.5</td>\n",
       "    </tr>\n",
       "  </tbody>\n",
       "</table>\n",
       "</div>"
      ],
      "text/plain": [
       "   user_id   name  total_spent\n",
       "0        1  Alice       1225.5"
      ]
     },
     "metadata": {},
     "output_type": "display_data"
    }
   ],
   "source": [
    "query2 = \"\"\"\n",
    "SELECT u.user_id, u.name, SUM(o.amount) AS total_spent\n",
    "FROM users u\n",
    "JOIN orders o ON u.user_id = o.user_id\n",
    "GROUP BY u.user_id, u.name\n",
    "HAVING total_spent > 700;\n",
    "\n",
    "\"\"\"\n",
    "print(\"Query 2: Users who spent more than $700:\")\n",
    "display(run_query(query2))"
   ]
  },
  {
   "cell_type": "code",
   "execution_count": 5,
   "id": "dd532f77",
   "metadata": {},
   "outputs": [
    {
     "name": "stdout",
     "output_type": "stream",
     "text": [
      "Query 3: Addresses with at least 2 orders:\n"
     ]
    },
    {
     "data": {
      "text/html": [
       "<div>\n",
       "<style scoped>\n",
       "    .dataframe tbody tr th:only-of-type {\n",
       "        vertical-align: middle;\n",
       "    }\n",
       "\n",
       "    .dataframe tbody tr th {\n",
       "        vertical-align: top;\n",
       "    }\n",
       "\n",
       "    .dataframe thead th {\n",
       "        text-align: right;\n",
       "    }\n",
       "</style>\n",
       "<table border=\"1\" class=\"dataframe\">\n",
       "  <thead>\n",
       "    <tr style=\"text-align: right;\">\n",
       "      <th></th>\n",
       "      <th>address</th>\n",
       "    </tr>\n",
       "  </thead>\n",
       "  <tbody>\n",
       "    <tr>\n",
       "      <th>0</th>\n",
       "      <td>123 Main St</td>\n",
       "    </tr>\n",
       "    <tr>\n",
       "      <th>1</th>\n",
       "      <td>135 Willow Dr</td>\n",
       "    </tr>\n",
       "    <tr>\n",
       "      <th>2</th>\n",
       "      <td>321 Pine St</td>\n",
       "    </tr>\n",
       "    <tr>\n",
       "      <th>3</th>\n",
       "      <td>654 Cedar Ave</td>\n",
       "    </tr>\n",
       "    <tr>\n",
       "      <th>4</th>\n",
       "      <td>987 Birch Rd</td>\n",
       "    </tr>\n",
       "  </tbody>\n",
       "</table>\n",
       "</div>"
      ],
      "text/plain": [
       "         address\n",
       "0    123 Main St\n",
       "1  135 Willow Dr\n",
       "2    321 Pine St\n",
       "3  654 Cedar Ave\n",
       "4   987 Birch Rd"
      ]
     },
     "metadata": {},
     "output_type": "display_data"
    }
   ],
   "source": [
    "query3= \"\"\"\n",
    "SELECT DISTINCT p.address\n",
    "FROM profiles p\n",
    "JOIN users u ON p.user_id = u.user_id\n",
    "JOIN orders o ON u.user_id = o.user_id\n",
    "GROUP BY p.address\n",
    "HAVING COUNT(o.order_id) >= 2;\n",
    "\n",
    "\"\"\"\n",
    "print(\"Query 3: Addresses with at least 2 orders:\")\n",
    "display(run_query(query3))"
   ]
  },
  {
   "cell_type": "code",
   "execution_count": 6,
   "id": "f835d0fa",
   "metadata": {},
   "outputs": [
    {
     "name": "stdout",
     "output_type": "stream",
     "text": [
      "Query 4: Users categorized by age group:\n"
     ]
    },
    {
     "data": {
      "text/html": [
       "<div>\n",
       "<style scoped>\n",
       "    .dataframe tbody tr th:only-of-type {\n",
       "        vertical-align: middle;\n",
       "    }\n",
       "\n",
       "    .dataframe tbody tr th {\n",
       "        vertical-align: top;\n",
       "    }\n",
       "\n",
       "    .dataframe thead th {\n",
       "        text-align: right;\n",
       "    }\n",
       "</style>\n",
       "<table border=\"1\" class=\"dataframe\">\n",
       "  <thead>\n",
       "    <tr style=\"text-align: right;\">\n",
       "      <th></th>\n",
       "      <th>grupo_edad</th>\n",
       "      <th>total_usuarios</th>\n",
       "    </tr>\n",
       "  </thead>\n",
       "  <tbody>\n",
       "    <tr>\n",
       "      <th>0</th>\n",
       "      <td>Adultos</td>\n",
       "      <td>3</td>\n",
       "    </tr>\n",
       "    <tr>\n",
       "      <th>1</th>\n",
       "      <td>Jovenes</td>\n",
       "      <td>2</td>\n",
       "    </tr>\n",
       "    <tr>\n",
       "      <th>2</th>\n",
       "      <td>Seniors</td>\n",
       "      <td>3</td>\n",
       "    </tr>\n",
       "  </tbody>\n",
       "</table>\n",
       "</div>"
      ],
      "text/plain": [
       "  grupo_edad  total_usuarios\n",
       "0    Adultos               3\n",
       "1    Jovenes               2\n",
       "2    Seniors               3"
      ]
     },
     "metadata": {},
     "output_type": "display_data"
    }
   ],
   "source": [
    "query4 = \"\"\"\n",
    "SELECT\n",
    "  CASE\n",
    "    WHEN age < 25 THEN 'Jovenes'\n",
    "    WHEN age BETWEEN 25 AND 40 THEN 'Adultos'\n",
    "    ELSE 'Seniors'\n",
    "  END AS grupo_edad,\n",
    "  COUNT(*) AS total_usuarios\n",
    "FROM users\n",
    "GROUP BY grupo_edad;\n",
    "\n",
    "\"\"\"\n",
    "print(\"Query 4: Users categorized by age group:\")\n",
    "display(run_query(query4))"
   ]
  },
  {
   "cell_type": "code",
   "execution_count": 7,
   "id": "f9815646",
   "metadata": {},
   "outputs": [
    {
     "name": "stdout",
     "output_type": "stream",
     "text": [
      "Query 5: All user details with their latest order:\n"
     ]
    },
    {
     "data": {
      "text/html": [
       "<div>\n",
       "<style scoped>\n",
       "    .dataframe tbody tr th:only-of-type {\n",
       "        vertical-align: middle;\n",
       "    }\n",
       "\n",
       "    .dataframe tbody tr th {\n",
       "        vertical-align: top;\n",
       "    }\n",
       "\n",
       "    .dataframe thead th {\n",
       "        text-align: right;\n",
       "    }\n",
       "</style>\n",
       "<table border=\"1\" class=\"dataframe\">\n",
       "  <thead>\n",
       "    <tr style=\"text-align: right;\">\n",
       "      <th></th>\n",
       "      <th>user_id</th>\n",
       "      <th>name</th>\n",
       "      <th>age</th>\n",
       "      <th>email</th>\n",
       "      <th>phone</th>\n",
       "      <th>address</th>\n",
       "      <th>order_id</th>\n",
       "      <th>product</th>\n",
       "      <th>amount</th>\n",
       "      <th>order_date</th>\n",
       "    </tr>\n",
       "  </thead>\n",
       "  <tbody>\n",
       "    <tr>\n",
       "      <th>0</th>\n",
       "      <td>8</td>\n",
       "      <td>Hannah</td>\n",
       "      <td>42</td>\n",
       "      <td>hannah@example.com</td>\n",
       "      <td>555-0123</td>\n",
       "      <td>135 Willow Dr</td>\n",
       "      <td>1015</td>\n",
       "      <td>Charger</td>\n",
       "      <td>20.0</td>\n",
       "      <td>2025-06-06</td>\n",
       "    </tr>\n",
       "    <tr>\n",
       "      <th>1</th>\n",
       "      <td>8</td>\n",
       "      <td>Hannah</td>\n",
       "      <td>42</td>\n",
       "      <td>hannah@example.com</td>\n",
       "      <td>555-0123</td>\n",
       "      <td>135 Willow Dr</td>\n",
       "      <td>1014</td>\n",
       "      <td>Smartwatch</td>\n",
       "      <td>250.0</td>\n",
       "      <td>2025-06-05</td>\n",
       "    </tr>\n",
       "    <tr>\n",
       "      <th>2</th>\n",
       "      <td>6</td>\n",
       "      <td>Fiona</td>\n",
       "      <td>27</td>\n",
       "      <td>fiona@example.com</td>\n",
       "      <td>555-2345</td>\n",
       "      <td>987 Birch Rd</td>\n",
       "      <td>1012</td>\n",
       "      <td>Filter</td>\n",
       "      <td>30.0</td>\n",
       "      <td>2025-05-17</td>\n",
       "    </tr>\n",
       "    <tr>\n",
       "      <th>3</th>\n",
       "      <td>6</td>\n",
       "      <td>Fiona</td>\n",
       "      <td>27</td>\n",
       "      <td>fiona@example.com</td>\n",
       "      <td>555-2345</td>\n",
       "      <td>987 Birch Rd</td>\n",
       "      <td>1011</td>\n",
       "      <td>Bag</td>\n",
       "      <td>50.0</td>\n",
       "      <td>2025-05-16</td>\n",
       "    </tr>\n",
       "    <tr>\n",
       "      <th>4</th>\n",
       "      <td>6</td>\n",
       "      <td>Fiona</td>\n",
       "      <td>27</td>\n",
       "      <td>fiona@example.com</td>\n",
       "      <td>555-2345</td>\n",
       "      <td>987 Birch Rd</td>\n",
       "      <td>1010</td>\n",
       "      <td>Lens</td>\n",
       "      <td>200.0</td>\n",
       "      <td>2025-05-15</td>\n",
       "    </tr>\n",
       "    <tr>\n",
       "      <th>5</th>\n",
       "      <td>5</td>\n",
       "      <td>Edward</td>\n",
       "      <td>55</td>\n",
       "      <td>edward@example.com</td>\n",
       "      <td>555-7890</td>\n",
       "      <td>654 Cedar Ave</td>\n",
       "      <td>1009</td>\n",
       "      <td>Tripod</td>\n",
       "      <td>80.0</td>\n",
       "      <td>2025-04-16</td>\n",
       "    </tr>\n",
       "    <tr>\n",
       "      <th>6</th>\n",
       "      <td>5</td>\n",
       "      <td>Edward</td>\n",
       "      <td>55</td>\n",
       "      <td>edward@example.com</td>\n",
       "      <td>555-7890</td>\n",
       "      <td>654 Cedar Ave</td>\n",
       "      <td>1008</td>\n",
       "      <td>Camera</td>\n",
       "      <td>500.0</td>\n",
       "      <td>2025-04-15</td>\n",
       "    </tr>\n",
       "    <tr>\n",
       "      <th>7</th>\n",
       "      <td>4</td>\n",
       "      <td>Diana</td>\n",
       "      <td>35</td>\n",
       "      <td>diana@example.com</td>\n",
       "      <td>555-3456</td>\n",
       "      <td>321 Pine St</td>\n",
       "      <td>1007</td>\n",
       "      <td>Webcam</td>\n",
       "      <td>55.0</td>\n",
       "      <td>2025-04-01</td>\n",
       "    </tr>\n",
       "    <tr>\n",
       "      <th>8</th>\n",
       "      <td>4</td>\n",
       "      <td>Diana</td>\n",
       "      <td>35</td>\n",
       "      <td>diana@example.com</td>\n",
       "      <td>555-3456</td>\n",
       "      <td>321 Pine St</td>\n",
       "      <td>1006</td>\n",
       "      <td>Headphones</td>\n",
       "      <td>85.0</td>\n",
       "      <td>2025-03-25</td>\n",
       "    </tr>\n",
       "    <tr>\n",
       "      <th>9</th>\n",
       "      <td>4</td>\n",
       "      <td>Diana</td>\n",
       "      <td>35</td>\n",
       "      <td>diana@example.com</td>\n",
       "      <td>555-3456</td>\n",
       "      <td>321 Pine St</td>\n",
       "      <td>1005</td>\n",
       "      <td>Tablet</td>\n",
       "      <td>450.0</td>\n",
       "      <td>2025-03-20</td>\n",
       "    </tr>\n",
       "    <tr>\n",
       "      <th>10</th>\n",
       "      <td>2</td>\n",
       "      <td>Bob</td>\n",
       "      <td>22</td>\n",
       "      <td>bob@example.com</td>\n",
       "      <td>555-5678</td>\n",
       "      <td>456 Elm St</td>\n",
       "      <td>1003</td>\n",
       "      <td>Keyboard</td>\n",
       "      <td>75.0</td>\n",
       "      <td>2025-03-01</td>\n",
       "    </tr>\n",
       "    <tr>\n",
       "      <th>11</th>\n",
       "      <td>1</td>\n",
       "      <td>Alice</td>\n",
       "      <td>30</td>\n",
       "      <td>alice@example.com</td>\n",
       "      <td>555-1234</td>\n",
       "      <td>123 Main St</td>\n",
       "      <td>1002</td>\n",
       "      <td>Mouse</td>\n",
       "      <td>25.5</td>\n",
       "      <td>2025-02-15</td>\n",
       "    </tr>\n",
       "    <tr>\n",
       "      <th>12</th>\n",
       "      <td>1</td>\n",
       "      <td>Alice</td>\n",
       "      <td>30</td>\n",
       "      <td>alice@example.com</td>\n",
       "      <td>555-1234</td>\n",
       "      <td>123 Main St</td>\n",
       "      <td>1001</td>\n",
       "      <td>Laptop</td>\n",
       "      <td>1200.0</td>\n",
       "      <td>2025-02-01</td>\n",
       "    </tr>\n",
       "    <tr>\n",
       "      <th>13</th>\n",
       "      <td>3</td>\n",
       "      <td>Charlie</td>\n",
       "      <td>45</td>\n",
       "      <td>charlie@example.com</td>\n",
       "      <td>555-9012</td>\n",
       "      <td>789 Oak St</td>\n",
       "      <td>1004</td>\n",
       "      <td>Monitor</td>\n",
       "      <td>300.0</td>\n",
       "      <td>2024-12-20</td>\n",
       "    </tr>\n",
       "    <tr>\n",
       "      <th>14</th>\n",
       "      <td>7</td>\n",
       "      <td>George</td>\n",
       "      <td>19</td>\n",
       "      <td>george@example.com</td>\n",
       "      <td>555-6789</td>\n",
       "      <td>246 Spruce Ln</td>\n",
       "      <td>1013</td>\n",
       "      <td>Memory Card</td>\n",
       "      <td>45.0</td>\n",
       "      <td>2024-11-05</td>\n",
       "    </tr>\n",
       "  </tbody>\n",
       "</table>\n",
       "</div>"
      ],
      "text/plain": [
       "    user_id     name  age                email     phone        address  \\\n",
       "0         8   Hannah   42   hannah@example.com  555-0123  135 Willow Dr   \n",
       "1         8   Hannah   42   hannah@example.com  555-0123  135 Willow Dr   \n",
       "2         6    Fiona   27    fiona@example.com  555-2345   987 Birch Rd   \n",
       "3         6    Fiona   27    fiona@example.com  555-2345   987 Birch Rd   \n",
       "4         6    Fiona   27    fiona@example.com  555-2345   987 Birch Rd   \n",
       "5         5   Edward   55   edward@example.com  555-7890  654 Cedar Ave   \n",
       "6         5   Edward   55   edward@example.com  555-7890  654 Cedar Ave   \n",
       "7         4    Diana   35    diana@example.com  555-3456    321 Pine St   \n",
       "8         4    Diana   35    diana@example.com  555-3456    321 Pine St   \n",
       "9         4    Diana   35    diana@example.com  555-3456    321 Pine St   \n",
       "10        2      Bob   22      bob@example.com  555-5678     456 Elm St   \n",
       "11        1    Alice   30    alice@example.com  555-1234    123 Main St   \n",
       "12        1    Alice   30    alice@example.com  555-1234    123 Main St   \n",
       "13        3  Charlie   45  charlie@example.com  555-9012     789 Oak St   \n",
       "14        7   George   19   george@example.com  555-6789  246 Spruce Ln   \n",
       "\n",
       "    order_id      product  amount  order_date  \n",
       "0       1015      Charger    20.0  2025-06-06  \n",
       "1       1014   Smartwatch   250.0  2025-06-05  \n",
       "2       1012       Filter    30.0  2025-05-17  \n",
       "3       1011          Bag    50.0  2025-05-16  \n",
       "4       1010         Lens   200.0  2025-05-15  \n",
       "5       1009       Tripod    80.0  2025-04-16  \n",
       "6       1008       Camera   500.0  2025-04-15  \n",
       "7       1007       Webcam    55.0  2025-04-01  \n",
       "8       1006   Headphones    85.0  2025-03-25  \n",
       "9       1005       Tablet   450.0  2025-03-20  \n",
       "10      1003     Keyboard    75.0  2025-03-01  \n",
       "11      1002        Mouse    25.5  2025-02-15  \n",
       "12      1001       Laptop  1200.0  2025-02-01  \n",
       "13      1004      Monitor   300.0  2024-12-20  \n",
       "14      1013  Memory Card    45.0  2024-11-05  "
      ]
     },
     "metadata": {},
     "output_type": "display_data"
    }
   ],
   "source": [
    "query5 = \"\"\"\n",
    "SELECT u.user_id, u.name, u.age, u.email, p.phone, p.address,\n",
    "       o.order_id, o.product, o.amount, o.order_date\n",
    "FROM users u\n",
    "JOIN profiles p ON u.user_id = p.user_id\n",
    "JOIN orders o ON u.user_id = o.user_id\n",
    "ORDER BY o.order_date DESC;\n",
    "\"\"\"\n",
    "print(\"Query 5: All user details with their latest order:\")\n",
    "display(run_query(query5))"
   ]
  },
  {
   "cell_type": "markdown",
   "id": "94d4e7e7",
   "metadata": {},
   "source": [
    "VAN IA\n"
   ]
  },
  {
   "cell_type": "code",
   "execution_count": 10,
   "id": "9df7bc59",
   "metadata": {},
   "outputs": [],
   "source": [
    "from vanna.remote import VannaDefault\n",
    "import os"
   ]
  },
  {
   "cell_type": "code",
   "execution_count": 11,
   "id": "94d52b47",
   "metadata": {},
   "outputs": [],
   "source": [
    "\n",
    "api_key = os.getenv(\"API_KEY\")\n",
    "vanna_model_name =  os.getenv(\"VANNA_MODEL_NAME\")\n",
    "vn = VannaDefault(model=vanna_model_name, api_key=api_key)"
   ]
  },
  {
   "cell_type": "markdown",
   "id": "599866dd",
   "metadata": {},
   "source": [
    "ENTRENAR MODELO"
   ]
  },
  {
   "cell_type": "code",
   "execution_count": 12,
   "id": "52b2738e",
   "metadata": {},
   "outputs": [
    {
     "name": "stdout",
     "output_type": "stream",
     "text": [
      "Adding ddl: \n",
      "CREATE TABLE users (\n",
      "    user_id INTEGER PRIMARY KEY,\n",
      "    name TEXT NOT NULL,\n",
      "    age INTEGER NOT NULL,\n",
      "    email TEXT NOT NULL UNIQUE,\n",
      "    created_at TIMESTAMP DEFAULT CURRENT_TIMESTAMP\n",
      ");\n"
     ]
    },
    {
     "data": {
      "text/plain": [
       "'16993643-ddl'"
      ]
     },
     "execution_count": 12,
     "metadata": {},
     "output_type": "execute_result"
    }
   ],
   "source": [
    "vn.train(\n",
    "    ddl=\"\"\"\n",
    "CREATE TABLE users (\n",
    "    user_id INTEGER PRIMARY KEY,\n",
    "    name TEXT NOT NULL,\n",
    "    age INTEGER NOT NULL,\n",
    "    email TEXT NOT NULL UNIQUE,\n",
    "    created_at TIMESTAMP DEFAULT CURRENT_TIMESTAMP\n",
    ");\"\"\"\n",
    ")"
   ]
  },
  {
   "cell_type": "code",
   "execution_count": 13,
   "id": "abae91f7",
   "metadata": {},
   "outputs": [
    {
     "name": "stdout",
     "output_type": "stream",
     "text": [
      "Adding ddl: \n",
      "CREATE TABLE profiles (\n",
      "    user_id INTEGER PRIMARY KEY,\n",
      "    address TEXT NOT NULL,\n",
      "    phone TEXT NOT NULL,\n",
      "    FOREIGN KEY (user_id) REFERENCES users(user_id)\n",
      ");\n"
     ]
    },
    {
     "data": {
      "text/plain": [
       "'16993648-ddl'"
      ]
     },
     "execution_count": 13,
     "metadata": {},
     "output_type": "execute_result"
    }
   ],
   "source": [
    "vn.train(\n",
    "    ddl=\"\"\"\n",
    "CREATE TABLE profiles (\n",
    "    user_id INTEGER PRIMARY KEY,\n",
    "    address TEXT NOT NULL,\n",
    "    phone TEXT NOT NULL,\n",
    "    FOREIGN KEY (user_id) REFERENCES users(user_id)\n",
    ");\"\"\"\n",
    ")"
   ]
  },
  {
   "cell_type": "code",
   "execution_count": 14,
   "id": "58a0b479",
   "metadata": {},
   "outputs": [
    {
     "name": "stdout",
     "output_type": "stream",
     "text": [
      "Adding ddl: \n",
      "    CREATE TABLE orders (\n",
      "    order_id INTEGER PRIMARY KEY,\n",
      "    user_id INTEGER NOT NULL,   \n",
      "    product TEXT NOT NULL,\n",
      "    amount REAL NOT NULL,\n",
      "    order_date TIMESTAMP DEFAULT CURRENT_TIMESTAMP,\n",
      "    FOREIGN KEY (user_id) REFERENCES users(user_id)\n",
      ");\n"
     ]
    },
    {
     "data": {
      "text/plain": [
       "'16993673-ddl'"
      ]
     },
     "execution_count": 14,
     "metadata": {},
     "output_type": "execute_result"
    }
   ],
   "source": [
    "vn.train(\n",
    "    ddl=\"\"\"\n",
    "    CREATE TABLE orders (\n",
    "    order_id INTEGER PRIMARY KEY,\n",
    "    user_id INTEGER NOT NULL,   \n",
    "    product TEXT NOT NULL,\n",
    "    amount REAL NOT NULL,\n",
    "    order_date TIMESTAMP DEFAULT CURRENT_TIMESTAMP,\n",
    "    FOREIGN KEY (user_id) REFERENCES users(user_id)\n",
    ");\"\"\"\n",
    ")"
   ]
  },
  {
   "cell_type": "code",
   "execution_count": 15,
   "id": "f5bdc03b",
   "metadata": {},
   "outputs": [
    {
     "name": "stdout",
     "output_type": "stream",
     "text": [
      "Adding documentation....\n"
     ]
    },
    {
     "data": {
      "text/plain": [
       "'3443501-doc'"
      ]
     },
     "execution_count": 15,
     "metadata": {},
     "output_type": "execute_result"
    }
   ],
   "source": [
    "vn.train(\n",
    "    documentation=\"El usuario puede usar el nombre de pedido en lugar de orden.\"\n",
    ")"
   ]
  },
  {
   "cell_type": "code",
   "execution_count": 16,
   "id": "d40bb236",
   "metadata": {},
   "outputs": [
    {
     "name": "stdout",
     "output_type": "stream",
     "text": [
      "SQL Prompt: [{'role': 'system', 'content': \"You are a SQL expert. Please help to generate a SQL query to answer the question. Your response should ONLY be based on the given context and follow the response guidelines and format instructions. \\n===Tables \\n\\n    CREATE TABLE orders (\\n    order_id INTEGER PRIMARY KEY,\\n    user_id INTEGER NOT NULL,   \\n    product TEXT NOT NULL,\\n    amount REAL NOT NULL,\\n    order_date TIMESTAMP DEFAULT CURRENT_TIMESTAMP,\\n    FOREIGN KEY (user_id) REFERENCES users(user_id)\\n);\\n\\n\\nCREATE TABLE users (\\n    user_id INTEGER PRIMARY KEY,\\n    name TEXT NOT NULL,\\n    age INTEGER NOT NULL,\\n    email TEXT NOT NULL UNIQUE,\\n    created_at TIMESTAMP DEFAULT CURRENT_TIMESTAMP\\n);\\n\\n\\nCREATE TABLE profiles (\\n    user_id INTEGER PRIMARY KEY,\\n    address TEXT NOT NULL,\\n    phone TEXT NOT NULL,\\n    FOREIGN KEY (user_id) REFERENCES users(user_id)\\n);\\n\\n\\n===Additional Context \\n\\nEl usuario puede usar el nombre de pedido en lugar de orden.\\n\\n===Response Guidelines \\n1. If the provided context is sufficient, please generate a valid SQL query without any explanations for the question. \\n2. If the provided context is almost sufficient but requires knowledge of a specific string in a particular column, please generate an intermediate SQL query to find the distinct strings in that column. Prepend the query with a comment saying intermediate_sql \\n3. If the provided context is insufficient, please explain why it can't be generated. \\n4. Please use the most relevant table(s). \\n5. If the question has been asked and answered before, please repeat the answer exactly as it was given before. \\n6. Ensure that the output SQL is SQL-compliant and executable, and free of syntax errors. \\n\"}, {'role': 'user', 'content': 'Quien es el usuario que hizo el ultimo pedido?'}]\n",
      "LLM Response: ```sql\n",
      "SELECT u.name\n",
      "FROM users u\n",
      "JOIN orders o ON u.user_id = o.user_id\n",
      "ORDER BY o.order_date DESC\n",
      "LIMIT 1;\n",
      "```\n",
      "Extracted SQL: SELECT u.name\n",
      "FROM users u\n",
      "JOIN orders o ON u.user_id = o.user_id\n",
      "ORDER BY o.order_date DESC\n",
      "LIMIT 1;\n"
     ]
    }
   ],
   "source": [
    "query = vn.generate_sql(\n",
    "    \"Quien es el usuario que hizo el ultimo pedido?\"\n",
    ")"
   ]
  },
  {
   "cell_type": "code",
   "execution_count": 18,
   "id": "d2eec8c8",
   "metadata": {},
   "outputs": [
    {
     "data": {
      "text/html": [
       "<div>\n",
       "<style scoped>\n",
       "    .dataframe tbody tr th:only-of-type {\n",
       "        vertical-align: middle;\n",
       "    }\n",
       "\n",
       "    .dataframe tbody tr th {\n",
       "        vertical-align: top;\n",
       "    }\n",
       "\n",
       "    .dataframe thead th {\n",
       "        text-align: right;\n",
       "    }\n",
       "</style>\n",
       "<table border=\"1\" class=\"dataframe\">\n",
       "  <thead>\n",
       "    <tr style=\"text-align: right;\">\n",
       "      <th></th>\n",
       "      <th>name</th>\n",
       "    </tr>\n",
       "  </thead>\n",
       "  <tbody>\n",
       "    <tr>\n",
       "      <th>0</th>\n",
       "      <td>Hannah</td>\n",
       "    </tr>\n",
       "  </tbody>\n",
       "</table>\n",
       "</div>"
      ],
      "text/plain": [
       "     name\n",
       "0  Hannah"
      ]
     },
     "execution_count": 18,
     "metadata": {},
     "output_type": "execute_result"
    }
   ],
   "source": [
    "pd.read_sql_query(query, conn)"
   ]
  },
  {
   "cell_type": "code",
   "execution_count": 19,
   "id": "19afabf7",
   "metadata": {},
   "outputs": [
    {
     "name": "stdout",
     "output_type": "stream",
     "text": [
      "SQL Prompt: [{'role': 'system', 'content': \"You are a SQL expert. Please help to generate a SQL query to answer the question. Your response should ONLY be based on the given context and follow the response guidelines and format instructions. \\n===Tables \\n\\n    CREATE TABLE orders (\\n    order_id INTEGER PRIMARY KEY,\\n    user_id INTEGER NOT NULL,   \\n    product TEXT NOT NULL,\\n    amount REAL NOT NULL,\\n    order_date TIMESTAMP DEFAULT CURRENT_TIMESTAMP,\\n    FOREIGN KEY (user_id) REFERENCES users(user_id)\\n);\\n\\n\\nCREATE TABLE users (\\n    user_id INTEGER PRIMARY KEY,\\n    name TEXT NOT NULL,\\n    age INTEGER NOT NULL,\\n    email TEXT NOT NULL UNIQUE,\\n    created_at TIMESTAMP DEFAULT CURRENT_TIMESTAMP\\n);\\n\\n\\nCREATE TABLE profiles (\\n    user_id INTEGER PRIMARY KEY,\\n    address TEXT NOT NULL,\\n    phone TEXT NOT NULL,\\n    FOREIGN KEY (user_id) REFERENCES users(user_id)\\n);\\n\\n\\n===Additional Context \\n\\nEl usuario puede usar el nombre de pedido en lugar de orden.\\n\\n===Response Guidelines \\n1. If the provided context is sufficient, please generate a valid SQL query without any explanations for the question. \\n2. If the provided context is almost sufficient but requires knowledge of a specific string in a particular column, please generate an intermediate SQL query to find the distinct strings in that column. Prepend the query with a comment saying intermediate_sql \\n3. If the provided context is insufficient, please explain why it can't be generated. \\n4. Please use the most relevant table(s). \\n5. If the question has been asked and answered before, please repeat the answer exactly as it was given before. \\n6. Ensure that the output SQL is SQL-compliant and executable, and free of syntax errors. \\n\"}, {'role': 'user', 'content': 'Cuales son los datos de el usuario con mas pedidos?'}]\n",
      "LLM Response: ```sql\n",
      "SELECT u.user_id, u.name, u.age, u.email, p.address, p.phone\n",
      "FROM users u\n",
      "JOIN profiles p ON u.user_id = p.user_id\n",
      "JOIN orders o ON u.user_id = o.user_id\n",
      "GROUP BY u.user_id\n",
      "ORDER BY COUNT(o.order_id) DESC\n",
      "LIMIT 1;\n",
      "```\n",
      "Extracted SQL: SELECT u.user_id, u.name, u.age, u.email, p.address, p.phone\n",
      "FROM users u\n",
      "JOIN profiles p ON u.user_id = p.user_id\n",
      "JOIN orders o ON u.user_id = o.user_id\n",
      "GROUP BY u.user_id\n",
      "ORDER BY COUNT(o.order_id) DESC\n",
      "LIMIT 1;\n"
     ]
    }
   ],
   "source": [
    "query2 = vn.generate_sql(\n",
    "    \"Cuales son los datos de el usuario con mas pedidos?\")"
   ]
  },
  {
   "cell_type": "code",
   "execution_count": 20,
   "id": "a30db8a6",
   "metadata": {},
   "outputs": [
    {
     "data": {
      "text/html": [
       "<div>\n",
       "<style scoped>\n",
       "    .dataframe tbody tr th:only-of-type {\n",
       "        vertical-align: middle;\n",
       "    }\n",
       "\n",
       "    .dataframe tbody tr th {\n",
       "        vertical-align: top;\n",
       "    }\n",
       "\n",
       "    .dataframe thead th {\n",
       "        text-align: right;\n",
       "    }\n",
       "</style>\n",
       "<table border=\"1\" class=\"dataframe\">\n",
       "  <thead>\n",
       "    <tr style=\"text-align: right;\">\n",
       "      <th></th>\n",
       "      <th>user_id</th>\n",
       "      <th>name</th>\n",
       "      <th>age</th>\n",
       "      <th>email</th>\n",
       "      <th>address</th>\n",
       "      <th>phone</th>\n",
       "    </tr>\n",
       "  </thead>\n",
       "  <tbody>\n",
       "    <tr>\n",
       "      <th>0</th>\n",
       "      <td>6</td>\n",
       "      <td>Fiona</td>\n",
       "      <td>27</td>\n",
       "      <td>fiona@example.com</td>\n",
       "      <td>987 Birch Rd</td>\n",
       "      <td>555-2345</td>\n",
       "    </tr>\n",
       "  </tbody>\n",
       "</table>\n",
       "</div>"
      ],
      "text/plain": [
       "   user_id   name  age              email       address     phone\n",
       "0        6  Fiona   27  fiona@example.com  987 Birch Rd  555-2345"
      ]
     },
     "execution_count": 20,
     "metadata": {},
     "output_type": "execute_result"
    }
   ],
   "source": [
    "pd.read_sql_query(query2, conn)"
   ]
  }
 ],
 "metadata": {
  "kernelspec": {
   "display_name": "Python 3",
   "language": "python",
   "name": "python3"
  },
  "language_info": {
   "codemirror_mode": {
    "name": "ipython",
    "version": 3
   },
   "file_extension": ".py",
   "mimetype": "text/x-python",
   "name": "python",
   "nbconvert_exporter": "python",
   "pygments_lexer": "ipython3",
   "version": "3.11.3"
  }
 },
 "nbformat": 4,
 "nbformat_minor": 5
}
