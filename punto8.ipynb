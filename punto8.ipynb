{
 "cells": [
  {
   "cell_type": "code",
   "execution_count": 47,
   "id": "3276e158",
   "metadata": {},
   "outputs": [],
   "source": [
    "from vanna.remote import VannaDefault\n",
    "import os\n",
    "import sqlite3\n",
    "import pandas as pd\n",
    "\n",
    "db_path = \"ventas.db\" \n",
    "conn = sqlite3.connect(db_path)"
   ]
  },
  {
   "cell_type": "code",
   "execution_count": 40,
   "id": "9d43b880",
   "metadata": {},
   "outputs": [],
   "source": [
    "api_key = os.getenv(\"API_KEY\")\n",
    "vanna_model_name =  os.getenv(\"VANNA_MODEL_NAME\")\n",
    "vn = VannaDefault(model=vanna_model_name, api_key=api_key)"
   ]
  },
  {
   "cell_type": "markdown",
   "id": "145a248c",
   "metadata": {},
   "source": [
    "ENTRENAR"
   ]
  },
  {
   "cell_type": "code",
   "execution_count": 41,
   "id": "3984e3b8",
   "metadata": {},
   "outputs": [
    {
     "name": "stdout",
     "output_type": "stream",
     "text": [
      "Adding ddl: \n",
      "CREATE TABLE IF NOT EXISTS DimFecha (\n",
      "    date_key TEXT PRIMARY KEY,\n",
      "    year INTEGER,\n",
      "    quarter INTEGER,\n",
      "    month INTEGER,\n",
      "    day INTEGER,\n",
      "    weekday TEXT\n",
      ");\n",
      "\n"
     ]
    },
    {
     "data": {
      "text/plain": [
       "'16999199-ddl'"
      ]
     },
     "execution_count": 41,
     "metadata": {},
     "output_type": "execute_result"
    }
   ],
   "source": [
    "vn.train(\n",
    "    ddl=\"\"\"\n",
    "CREATE TABLE IF NOT EXISTS DimFecha (\n",
    "    date_key TEXT PRIMARY KEY,\n",
    "    year INTEGER,\n",
    "    quarter INTEGER,\n",
    "    month INTEGER,\n",
    "    day INTEGER,\n",
    "    weekday TEXT\n",
    ");\n",
    "\"\"\"\n",
    ")\n"
   ]
  },
  {
   "cell_type": "code",
   "execution_count": 42,
   "id": "7024464c",
   "metadata": {},
   "outputs": [
    {
     "name": "stdout",
     "output_type": "stream",
     "text": [
      "Adding ddl: \n",
      "CREATE TABLE IF NOT EXISTS DimCliente (\n",
      "    customer_id TEXT PRIMARY KEY,\n",
      "    customer_name TEXT,\n",
      "    customer_city TEXT\n",
      ");\n",
      "\n"
     ]
    },
    {
     "data": {
      "text/plain": [
       "'16999208-ddl'"
      ]
     },
     "execution_count": 42,
     "metadata": {},
     "output_type": "execute_result"
    }
   ],
   "source": [
    "vn.train(\n",
    "    ddl=\"\"\"\n",
    "CREATE TABLE IF NOT EXISTS DimCliente (\n",
    "    customer_id TEXT PRIMARY KEY,\n",
    "    customer_name TEXT,\n",
    "    customer_city TEXT\n",
    ");\n",
    "\"\"\"\n",
    ")\n"
   ]
  },
  {
   "cell_type": "code",
   "execution_count": 43,
   "id": "425dd4bc",
   "metadata": {},
   "outputs": [
    {
     "name": "stdout",
     "output_type": "stream",
     "text": [
      "Adding ddl: \n",
      "CREATE TABLE IF NOT EXISTS DimProducto (\n",
      "    product_id TEXT PRIMARY KEY,\n",
      "    product_name TEXT,\n",
      "    category TEXT,\n",
      "    unit_price REAL\n",
      ");\n",
      "\n"
     ]
    },
    {
     "data": {
      "text/plain": [
       "'16999215-ddl'"
      ]
     },
     "execution_count": 43,
     "metadata": {},
     "output_type": "execute_result"
    }
   ],
   "source": [
    "vn.train(\n",
    "    ddl=\"\"\"\n",
    "CREATE TABLE IF NOT EXISTS DimProducto (\n",
    "    product_id TEXT PRIMARY KEY,\n",
    "    product_name TEXT,\n",
    "    category TEXT,\n",
    "    unit_price REAL\n",
    ");\n",
    "\"\"\"\n",
    ")\n"
   ]
  },
  {
   "cell_type": "code",
   "execution_count": 44,
   "id": "e7f72671",
   "metadata": {},
   "outputs": [
    {
     "name": "stdout",
     "output_type": "stream",
     "text": [
      "Adding ddl: \n",
      "CREATE TABLE IF NOT EXISTS DimRepresentante (\n",
      "    rep_id TEXT PRIMARY KEY,\n",
      "    rep_name TEXT,\n",
      "    region TEXT\n",
      ");\n",
      "\n"
     ]
    },
    {
     "data": {
      "text/plain": [
       "'16999222-ddl'"
      ]
     },
     "execution_count": 44,
     "metadata": {},
     "output_type": "execute_result"
    }
   ],
   "source": [
    "vn.train(\n",
    "    ddl=\"\"\"\n",
    "CREATE TABLE IF NOT EXISTS DimRepresentante (\n",
    "    rep_id TEXT PRIMARY KEY,\n",
    "    rep_name TEXT,\n",
    "    region TEXT\n",
    ");\n",
    "\"\"\"\n",
    ")\n"
   ]
  },
  {
   "cell_type": "code",
   "execution_count": 45,
   "id": "433f81cf",
   "metadata": {},
   "outputs": [
    {
     "name": "stdout",
     "output_type": "stream",
     "text": [
      "Adding ddl: \n",
      "CREATE TABLE IF NOT EXISTS FactVentas (\n",
      "    sale_id INTEGER PRIMARY KEY,\n",
      "    date_key TEXT,\n",
      "    customer_id TEXT,\n",
      "    product_id TEXT,\n",
      "    rep_id TEXT,\n",
      "    quantity INTEGER,\n",
      "    FOREIGN KEY (date_key) REFERENCES DimFecha(date_key),\n",
      "    FOREIGN KEY (customer_id) REFERENCES DimCliente(customer_id),\n",
      "    FOREIGN KEY (product_id) REFERENCES DimProducto(product_id),\n",
      "    FOREIGN KEY (rep_id) REFERENCES DimRepresentante(rep_id)\n",
      ");\n",
      "\n"
     ]
    },
    {
     "data": {
      "text/plain": [
       "'16999232-ddl'"
      ]
     },
     "execution_count": 45,
     "metadata": {},
     "output_type": "execute_result"
    }
   ],
   "source": [
    "vn.train(\n",
    "    ddl=\"\"\"\n",
    "CREATE TABLE IF NOT EXISTS FactVentas (\n",
    "    sale_id INTEGER PRIMARY KEY,\n",
    "    date_key TEXT,\n",
    "    customer_id TEXT,\n",
    "    product_id TEXT,\n",
    "    rep_id TEXT,\n",
    "    quantity INTEGER,\n",
    "    FOREIGN KEY (date_key) REFERENCES DimFecha(date_key),\n",
    "    FOREIGN KEY (customer_id) REFERENCES DimCliente(customer_id),\n",
    "    FOREIGN KEY (product_id) REFERENCES DimProducto(product_id),\n",
    "    FOREIGN KEY (rep_id) REFERENCES DimRepresentante(rep_id)\n",
    ");\n",
    "\"\"\"\n",
    ")\n"
   ]
  },
  {
   "cell_type": "code",
   "execution_count": 52,
   "id": "6c08decf",
   "metadata": {},
   "outputs": [
    {
     "name": "stdout",
     "output_type": "stream",
     "text": [
      "Adding documentation....\n"
     ]
    },
    {
     "data": {
      "text/plain": [
       "'3443503-doc'"
      ]
     },
     "execution_count": 52,
     "metadata": {},
     "output_type": "execute_result"
    }
   ],
   "source": [
    "vn.train(\n",
    "    documentation=\"que todas las palabras con tilde sean reemplazadas por su version sin tilde\",\n",
    ")"
   ]
  },
  {
   "cell_type": "code",
   "execution_count": 51,
   "id": "9e3207df",
   "metadata": {},
   "outputs": [
    {
     "name": "stdout",
     "output_type": "stream",
     "text": [
      "SQL Prompt: [{'role': 'system', 'content': \"You are a SQL expert. Please help to generate a SQL query to answer the question. Your response should ONLY be based on the given context and follow the response guidelines and format instructions. \\n===Tables \\n\\nCREATE TABLE IF NOT EXISTS DimCliente (\\n    customer_id TEXT PRIMARY KEY,\\n    customer_name TEXT,\\n    customer_city TEXT\\n);\\n\\n\\n\\nCREATE TABLE IF NOT EXISTS DimProducto (\\n    product_id TEXT PRIMARY KEY,\\n    product_name TEXT,\\n    category TEXT,\\n    unit_price REAL\\n);\\n\\n\\n\\nCREATE TABLE IF NOT EXISTS FactVentas (\\n    sale_id INTEGER PRIMARY KEY,\\n    date_key TEXT,\\n    customer_id TEXT,\\n    product_id TEXT,\\n    rep_id TEXT,\\n    quantity INTEGER,\\n    FOREIGN KEY (date_key) REFERENCES DimFecha(date_key),\\n    FOREIGN KEY (customer_id) REFERENCES DimCliente(customer_id),\\n    FOREIGN KEY (product_id) REFERENCES DimProducto(product_id),\\n    FOREIGN KEY (rep_id) REFERENCES DimRepresentante(rep_id)\\n);\\n\\n\\n\\nCREATE TABLE IF NOT EXISTS DimRepresentante (\\n    rep_id TEXT PRIMARY KEY,\\n    rep_name TEXT,\\n    region TEXT\\n);\\n\\n\\n\\nCREATE TABLE IF NOT EXISTS DimFecha (\\n    date_key TEXT PRIMARY KEY,\\n    year INTEGER,\\n    quarter INTEGER,\\n    month INTEGER,\\n    day INTEGER,\\n    weekday TEXT\\n);\\n\\n\\n===Response Guidelines \\n1. If the provided context is sufficient, please generate a valid SQL query without any explanations for the question. \\n2. If the provided context is almost sufficient but requires knowledge of a specific string in a particular column, please generate an intermediate SQL query to find the distinct strings in that column. Prepend the query with a comment saying intermediate_sql \\n3. If the provided context is insufficient, please explain why it can't be generated. \\n4. Please use the most relevant table(s). \\n5. If the question has been asked and answered before, please repeat the answer exactly as it was given before. \\n6. Ensure that the output SQL is SQL-compliant and executable, and free of syntax errors. \\n\"}, {'role': 'user', 'content': 'Listar las compras y las caracteristicas de los clientes que pertenece a la ciudad de Medellín.'}]\n",
      "LLM Response: ```sql\n",
      "SELECT F.sale_id, F.date_key, C.customer_id, C.customer_name, C.customer_city, P.product_id, P.product_name, P.category, P.unit_price, F.quantity\n",
      "FROM FactVentas F\n",
      "JOIN DimCliente C ON F.customer_id = C.customer_id\n",
      "JOIN DimProducto P ON F.product_id = P.product_id\n",
      "WHERE C.customer_city = 'Medellín';\n",
      "```\n",
      "Extracted SQL: SELECT F.sale_id, F.date_key, C.customer_id, C.customer_name, C.customer_city, P.product_id, P.product_name, P.category, P.unit_price, F.quantity\n",
      "FROM FactVentas F\n",
      "JOIN DimCliente C ON F.customer_id = C.customer_id\n",
      "JOIN DimProducto P ON F.product_id = P.product_id\n",
      "WHERE C.customer_city = 'Medellín';\n"
     ]
    },
    {
     "data": {
      "text/html": [
       "<div>\n",
       "<style scoped>\n",
       "    .dataframe tbody tr th:only-of-type {\n",
       "        vertical-align: middle;\n",
       "    }\n",
       "\n",
       "    .dataframe tbody tr th {\n",
       "        vertical-align: top;\n",
       "    }\n",
       "\n",
       "    .dataframe thead th {\n",
       "        text-align: right;\n",
       "    }\n",
       "</style>\n",
       "<table border=\"1\" class=\"dataframe\">\n",
       "  <thead>\n",
       "    <tr style=\"text-align: right;\">\n",
       "      <th></th>\n",
       "      <th>sale_id</th>\n",
       "      <th>date_key</th>\n",
       "      <th>customer_id</th>\n",
       "      <th>customer_name</th>\n",
       "      <th>customer_city</th>\n",
       "      <th>product_id</th>\n",
       "      <th>product_name</th>\n",
       "      <th>category</th>\n",
       "      <th>unit_price</th>\n",
       "      <th>quantity</th>\n",
       "    </tr>\n",
       "  </thead>\n",
       "  <tbody>\n",
       "    <tr>\n",
       "      <th>0</th>\n",
       "      <td>1002</td>\n",
       "      <td>2025-07-02</td>\n",
       "      <td>C002</td>\n",
       "      <td>Andrés Rodríguez</td>\n",
       "      <td>Medellín</td>\n",
       "      <td>P101</td>\n",
       "      <td>Mouse Óptico</td>\n",
       "      <td>Periféricos</td>\n",
       "      <td>45.5</td>\n",
       "      <td>1</td>\n",
       "    </tr>\n",
       "    <tr>\n",
       "      <th>1</th>\n",
       "      <td>1010</td>\n",
       "      <td>2025-07-09</td>\n",
       "      <td>C009</td>\n",
       "      <td>Javier Ruiz</td>\n",
       "      <td>Medellín</td>\n",
       "      <td>P500</td>\n",
       "      <td>Disco Duro 2TB</td>\n",
       "      <td>Almacenamiento</td>\n",
       "      <td>110.0</td>\n",
       "      <td>2</td>\n",
       "    </tr>\n",
       "    <tr>\n",
       "      <th>2</th>\n",
       "      <td>1012</td>\n",
       "      <td>2025-07-11</td>\n",
       "      <td>C002</td>\n",
       "      <td>Andrés Rodríguez</td>\n",
       "      <td>Medellín</td>\n",
       "      <td>P100</td>\n",
       "      <td>Teclado Mecánico</td>\n",
       "      <td>Periféricos</td>\n",
       "      <td>120.0</td>\n",
       "      <td>3</td>\n",
       "    </tr>\n",
       "    <tr>\n",
       "      <th>3</th>\n",
       "      <td>1019</td>\n",
       "      <td>2025-07-18</td>\n",
       "      <td>C009</td>\n",
       "      <td>Javier Ruiz</td>\n",
       "      <td>Medellín</td>\n",
       "      <td>P101</td>\n",
       "      <td>Mouse Óptico</td>\n",
       "      <td>Periféricos</td>\n",
       "      <td>45.5</td>\n",
       "      <td>2</td>\n",
       "    </tr>\n",
       "  </tbody>\n",
       "</table>\n",
       "</div>"
      ],
      "text/plain": [
       "   sale_id    date_key customer_id     customer_name customer_city product_id  \\\n",
       "0     1002  2025-07-02        C002  Andrés Rodríguez      Medellín       P101   \n",
       "1     1010  2025-07-09        C009       Javier Ruiz      Medellín       P500   \n",
       "2     1012  2025-07-11        C002  Andrés Rodríguez      Medellín       P100   \n",
       "3     1019  2025-07-18        C009       Javier Ruiz      Medellín       P101   \n",
       "\n",
       "       product_name        category  unit_price  quantity  \n",
       "0      Mouse Óptico     Periféricos        45.5         1  \n",
       "1    Disco Duro 2TB  Almacenamiento       110.0         2  \n",
       "2  Teclado Mecánico     Periféricos       120.0         3  \n",
       "3      Mouse Óptico     Periféricos        45.5         2  "
      ]
     },
     "execution_count": 51,
     "metadata": {},
     "output_type": "execute_result"
    }
   ],
   "source": [
    "query2 = vn.generate_sql(\n",
    "    \"Listar las compras y las caracteristicas de los clientes que pertenece a la ciudad de Medellín.\"\n",
    ")\n",
    "pd.read_sql_query(query2, conn)"
   ]
  },
  {
   "cell_type": "code",
   "execution_count": 56,
   "id": "e81e677c",
   "metadata": {},
   "outputs": [
    {
     "name": "stdout",
     "output_type": "stream",
     "text": [
      "SQL Prompt: [{'role': 'system', 'content': \"You are a SQL expert. Please help to generate a SQL query to answer the question. Your response should ONLY be based on the given context and follow the response guidelines and format instructions. \\n===Tables \\n\\nCREATE TABLE IF NOT EXISTS DimProducto (\\n    product_id TEXT PRIMARY KEY,\\n    product_name TEXT,\\n    category TEXT,\\n    unit_price REAL\\n);\\n\\n\\n\\nCREATE TABLE IF NOT EXISTS FactVentas (\\n    sale_id INTEGER PRIMARY KEY,\\n    date_key TEXT,\\n    customer_id TEXT,\\n    product_id TEXT,\\n    rep_id TEXT,\\n    quantity INTEGER,\\n    FOREIGN KEY (date_key) REFERENCES DimFecha(date_key),\\n    FOREIGN KEY (customer_id) REFERENCES DimCliente(customer_id),\\n    FOREIGN KEY (product_id) REFERENCES DimProducto(product_id),\\n    FOREIGN KEY (rep_id) REFERENCES DimRepresentante(rep_id)\\n);\\n\\n\\n\\nCREATE TABLE IF NOT EXISTS DimCliente (\\n    customer_id TEXT PRIMARY KEY,\\n    customer_name TEXT,\\n    customer_city TEXT\\n);\\n\\n\\n\\nCREATE TABLE IF NOT EXISTS DimRepresentante (\\n    rep_id TEXT PRIMARY KEY,\\n    rep_name TEXT,\\n    region TEXT\\n);\\n\\n\\n\\nCREATE TABLE IF NOT EXISTS DimFecha (\\n    date_key TEXT PRIMARY KEY,\\n    year INTEGER,\\n    quarter INTEGER,\\n    month INTEGER,\\n    day INTEGER,\\n    weekday TEXT\\n);\\n\\n\\n\\n===Additional Context \\n\\n\\nAl procesar los datos y realizar búsquedas, todas las palabras que contienen tildes deben ser equivalentes\\na su versión sin tilde. Por ejemplo, 'canción' debe tratarse igual que 'cancion', 'árbol' igual que 'arbol', etc.\\nSe recomienda normalizar los textos eliminando las tildes para mejorar la precisión y evitar errores por acentos.\\n\\n\\nque todas las palabras con tilde sean reemplazadas por su version sin tilde\\n\\n===Response Guidelines \\n1. If the provided context is sufficient, please generate a valid SQL query without any explanations for the question. \\n2. If the provided context is almost sufficient but requires knowledge of a specific string in a particular column, please generate an intermediate SQL query to find the distinct strings in that column. Prepend the query with a comment saying intermediate_sql \\n3. If the provided context is insufficient, please explain why it can't be generated. \\n4. Please use the most relevant table(s). \\n5. If the question has been asked and answered before, please repeat the answer exactly as it was given before. \\n6. Ensure that the output SQL is SQL-compliant and executable, and free of syntax errors. \\n\"}, {'role': 'user', 'content': 'Listar las compras y las caracteristicas de los productos que pertenecen a la categoria Periféricos.'}]\n",
      "LLM Response: ```sql\n",
      "SELECT \n",
      "    f.sale_id,\n",
      "    f.date_key,\n",
      "    c.customer_name,\n",
      "    p.product_name,\n",
      "    p.category,\n",
      "    p.unit_price,\n",
      "    f.quantity\n",
      "FROM \n",
      "    FactVentas f\n",
      "JOIN \n",
      "    DimProducto p ON f.product_id = p.product_id\n",
      "JOIN \n",
      "    DimCliente c ON f.customer_id = c.customer_id\n",
      "WHERE \n",
      "    LOWER(REPLACE(p.category, 'á', 'a')) = 'perifericos' OR \n",
      "    LOWER(REPLACE(p.category, 'é', 'e')) = 'perifericos' OR \n",
      "    LOWER(REPLACE(p.category, 'í', 'i')) = 'perifericos' OR \n",
      "    LOWER(REPLACE(p.category, 'ó', 'o')) = 'perifericos' OR \n",
      "    LOWER(REPLACE(p.category, 'ú', 'u')) = 'perifericos';\n",
      "```\n",
      "Extracted SQL: SELECT \n",
      "    f.sale_id,\n",
      "    f.date_key,\n",
      "    c.customer_name,\n",
      "    p.product_name,\n",
      "    p.category,\n",
      "    p.unit_price,\n",
      "    f.quantity\n",
      "FROM \n",
      "    FactVentas f\n",
      "JOIN \n",
      "    DimProducto p ON f.product_id = p.product_id\n",
      "JOIN \n",
      "    DimCliente c ON f.customer_id = c.customer_id\n",
      "WHERE \n",
      "    LOWER(REPLACE(p.category, 'á', 'a')) = 'perifericos' OR \n",
      "    LOWER(REPLACE(p.category, 'é', 'e')) = 'perifericos' OR \n",
      "    LOWER(REPLACE(p.category, 'í', 'i')) = 'perifericos' OR \n",
      "    LOWER(REPLACE(p.category, 'ó', 'o')) = 'perifericos' OR \n",
      "    LOWER(REPLACE(p.category, 'ú', 'u')) = 'perifericos';\n"
     ]
    },
    {
     "data": {
      "text/html": [
       "<div>\n",
       "<style scoped>\n",
       "    .dataframe tbody tr th:only-of-type {\n",
       "        vertical-align: middle;\n",
       "    }\n",
       "\n",
       "    .dataframe tbody tr th {\n",
       "        vertical-align: top;\n",
       "    }\n",
       "\n",
       "    .dataframe thead th {\n",
       "        text-align: right;\n",
       "    }\n",
       "</style>\n",
       "<table border=\"1\" class=\"dataframe\">\n",
       "  <thead>\n",
       "    <tr style=\"text-align: right;\">\n",
       "      <th></th>\n",
       "      <th>sale_id</th>\n",
       "      <th>date_key</th>\n",
       "      <th>customer_name</th>\n",
       "      <th>product_name</th>\n",
       "      <th>category</th>\n",
       "      <th>unit_price</th>\n",
       "      <th>quantity</th>\n",
       "    </tr>\n",
       "  </thead>\n",
       "  <tbody>\n",
       "    <tr>\n",
       "      <th>0</th>\n",
       "      <td>1001</td>\n",
       "      <td>2025-07-01</td>\n",
       "      <td>María Gómez</td>\n",
       "      <td>Teclado Mecánico</td>\n",
       "      <td>Periféricos</td>\n",
       "      <td>120.0</td>\n",
       "      <td>2</td>\n",
       "    </tr>\n",
       "    <tr>\n",
       "      <th>1</th>\n",
       "      <td>1002</td>\n",
       "      <td>2025-07-02</td>\n",
       "      <td>Andrés Rodríguez</td>\n",
       "      <td>Mouse Óptico</td>\n",
       "      <td>Periféricos</td>\n",
       "      <td>45.5</td>\n",
       "      <td>1</td>\n",
       "    </tr>\n",
       "    <tr>\n",
       "      <th>2</th>\n",
       "      <td>1005</td>\n",
       "      <td>2025-07-04</td>\n",
       "      <td>Ana Beltrán</td>\n",
       "      <td>Teclado Mecánico</td>\n",
       "      <td>Periféricos</td>\n",
       "      <td>120.0</td>\n",
       "      <td>1</td>\n",
       "    </tr>\n",
       "    <tr>\n",
       "      <th>3</th>\n",
       "      <td>1007</td>\n",
       "      <td>2025-07-06</td>\n",
       "      <td>Carla Mendoza</td>\n",
       "      <td>Mouse Óptico</td>\n",
       "      <td>Periféricos</td>\n",
       "      <td>45.5</td>\n",
       "      <td>4</td>\n",
       "    </tr>\n",
       "    <tr>\n",
       "      <th>4</th>\n",
       "      <td>1009</td>\n",
       "      <td>2025-07-08</td>\n",
       "      <td>Sofía García</td>\n",
       "      <td>Webcam HD</td>\n",
       "      <td>Periféricos</td>\n",
       "      <td>70.0</td>\n",
       "      <td>1</td>\n",
       "    </tr>\n",
       "    <tr>\n",
       "      <th>5</th>\n",
       "      <td>1012</td>\n",
       "      <td>2025-07-11</td>\n",
       "      <td>Andrés Rodríguez</td>\n",
       "      <td>Teclado Mecánico</td>\n",
       "      <td>Periféricos</td>\n",
       "      <td>120.0</td>\n",
       "      <td>3</td>\n",
       "    </tr>\n",
       "    <tr>\n",
       "      <th>6</th>\n",
       "      <td>1013</td>\n",
       "      <td>2025-07-12</td>\n",
       "      <td>Luis Martínez</td>\n",
       "      <td>Mouse Óptico</td>\n",
       "      <td>Periféricos</td>\n",
       "      <td>45.5</td>\n",
       "      <td>5</td>\n",
       "    </tr>\n",
       "    <tr>\n",
       "      <th>7</th>\n",
       "      <td>1015</td>\n",
       "      <td>2025-07-14</td>\n",
       "      <td>Pedro Castillo</td>\n",
       "      <td>Webcam HD</td>\n",
       "      <td>Periféricos</td>\n",
       "      <td>70.0</td>\n",
       "      <td>2</td>\n",
       "    </tr>\n",
       "    <tr>\n",
       "      <th>8</th>\n",
       "      <td>1018</td>\n",
       "      <td>2025-07-17</td>\n",
       "      <td>Sofía García</td>\n",
       "      <td>Teclado Mecánico</td>\n",
       "      <td>Periféricos</td>\n",
       "      <td>120.0</td>\n",
       "      <td>1</td>\n",
       "    </tr>\n",
       "    <tr>\n",
       "      <th>9</th>\n",
       "      <td>1019</td>\n",
       "      <td>2025-07-18</td>\n",
       "      <td>Javier Ruiz</td>\n",
       "      <td>Mouse Óptico</td>\n",
       "      <td>Periféricos</td>\n",
       "      <td>45.5</td>\n",
       "      <td>2</td>\n",
       "    </tr>\n",
       "  </tbody>\n",
       "</table>\n",
       "</div>"
      ],
      "text/plain": [
       "   sale_id    date_key     customer_name      product_name     category  \\\n",
       "0     1001  2025-07-01       María Gómez  Teclado Mecánico  Periféricos   \n",
       "1     1002  2025-07-02  Andrés Rodríguez      Mouse Óptico  Periféricos   \n",
       "2     1005  2025-07-04       Ana Beltrán  Teclado Mecánico  Periféricos   \n",
       "3     1007  2025-07-06     Carla Mendoza      Mouse Óptico  Periféricos   \n",
       "4     1009  2025-07-08      Sofía García         Webcam HD  Periféricos   \n",
       "5     1012  2025-07-11  Andrés Rodríguez  Teclado Mecánico  Periféricos   \n",
       "6     1013  2025-07-12     Luis Martínez      Mouse Óptico  Periféricos   \n",
       "7     1015  2025-07-14    Pedro Castillo         Webcam HD  Periféricos   \n",
       "8     1018  2025-07-17      Sofía García  Teclado Mecánico  Periféricos   \n",
       "9     1019  2025-07-18       Javier Ruiz      Mouse Óptico  Periféricos   \n",
       "\n",
       "   unit_price  quantity  \n",
       "0       120.0         2  \n",
       "1        45.5         1  \n",
       "2       120.0         1  \n",
       "3        45.5         4  \n",
       "4        70.0         1  \n",
       "5       120.0         3  \n",
       "6        45.5         5  \n",
       "7        70.0         2  \n",
       "8       120.0         1  \n",
       "9        45.5         2  "
      ]
     },
     "execution_count": 56,
     "metadata": {},
     "output_type": "execute_result"
    }
   ],
   "source": [
    "query3 = vn.generate_sql(\n",
    "    \"Listar las compras y las caracteristicas de los productos que pertenecen a la categoria Periféricos.\"\n",
    ")\n",
    "pd.read_sql_query(query3, conn)"
   ]
  }
 ],
 "metadata": {
  "kernelspec": {
   "display_name": "Python 3",
   "language": "python",
   "name": "python3"
  },
  "language_info": {
   "codemirror_mode": {
    "name": "ipython",
    "version": 3
   },
   "file_extension": ".py",
   "mimetype": "text/x-python",
   "name": "python",
   "nbconvert_exporter": "python",
   "pygments_lexer": "ipython3",
   "version": "3.11.3"
  }
 },
 "nbformat": 4,
 "nbformat_minor": 5
}
